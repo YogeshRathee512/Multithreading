{
  "nbformat": 4,
  "nbformat_minor": 0,
  "metadata": {
    "colab": {
      "provenance": [],
      "authorship_tag": "ABX9TyNX7jjrjNw3+Df7N4sJ7J7m",
      "include_colab_link": true
    },
    "kernelspec": {
      "name": "python3",
      "display_name": "Python 3"
    },
    "language_info": {
      "name": "python"
    }
  },
  "cells": [
    {
      "cell_type": "markdown",
      "metadata": {
        "id": "view-in-github",
        "colab_type": "text"
      },
      "source": [
        "<a href=\"https://colab.research.google.com/github/YogeshRathee512/Multithreading/blob/main/Multithreading.ipynb\" target=\"_parent\"><img src=\"https://colab.research.google.com/assets/colab-badge.svg\" alt=\"Open In Colab\"/></a>"
      ]
    },
    {
      "cell_type": "code",
      "execution_count": 1,
      "metadata": {
        "colab": {
          "base_uri": "https://localhost:8080/"
        },
        "id": "6QHDSecBbR1S",
        "outputId": "221aa34c-9194-4127-a3fd-a38ba0186ed4"
      },
      "outputs": [
        {
          "output_type": "stream",
          "name": "stdout",
          "text": [
            "Multiplication with 1 threads took 12.99 seconds.\n",
            "Multiplication with 2 threads took 8.75 seconds.\n",
            "Multiplication with 3 threads took 7.34 seconds.\n",
            "Multiplication with 4 threads took 8.17 seconds.\n",
            "Multiplication with 5 threads took 6.70 seconds.\n",
            "Multiplication with 6 threads took 7.88 seconds.\n",
            "Multiplication with 7 threads took 8.11 seconds.\n",
            "Multiplication with 8 threads took 6.67 seconds.\n"
          ]
        }
      ],
      "source": [
        "import threading\n",
        "import numpy as np\n",
        "import time\n",
        "\n",
        "def matrix_multiply_chunk(start, end, fixed_matrix, random_matrices, result):\n",
        "    \"\"\"Multiply a chunk of random matrices with a fixed matrix.\"\"\"\n",
        "    for i in range(start, end):\n",
        "        result[i] = np.dot(fixed_matrix, random_matrices[i])\n",
        "\n",
        "def main(num_threads):\n",
        "    \"\"\"Main function to initiate matrix multiplication using multiple threads.\"\"\"\n",
        "    num_matrices = 100\n",
        "    matrix_size = (1000, 1000)\n",
        "    num_rows, num_cols = matrix_size\n",
        "\n",
        "    # Generate random matrices\n",
        "    random_matrices = [np.random.rand(num_rows, num_cols) for _ in range(num_matrices)]\n",
        "    fixed_matrix = np.random.rand(num_rows, num_cols)\n",
        "\n",
        "    # Initialize result list\n",
        "    results = [None] * num_matrices\n",
        "\n",
        "    # Calculate chunk size\n",
        "    chunk_size = num_matrices // num_threads\n",
        "\n",
        "    # Create threads\n",
        "    threads = []\n",
        "    for i in range(num_threads):\n",
        "        start = i * chunk_size\n",
        "        end = start + chunk_size if i < num_threads - 1 else num_matrices\n",
        "        thread = threading.Thread(\n",
        "            target=matrix_multiply_chunk,\n",
        "            args=(start, end, fixed_matrix, random_matrices, results)\n",
        "        )\n",
        "        threads.append(thread)\n",
        "\n",
        "    # Start and join threads\n",
        "    start_time = time.time()\n",
        "    for thread in threads:\n",
        "        thread.start()\n",
        "    for thread in threads:\n",
        "        thread.join()\n",
        "    end_time = time.time()\n",
        "\n",
        "    print(f\"Multiplication with {num_threads} threads took {end_time - start_time:.2f} seconds.\")\n",
        "\n",
        "if __name__ == \"__main__\":\n",
        "    # Test different numbers of threads\n",
        "    num_threads_list = [1, 2, 3, 4, 5, 6, 7, 8]\n",
        "    for num_thread in num_threads_list:\n",
        "        main(num_thread)\n"
      ]
    }
  ]
}